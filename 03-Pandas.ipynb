{
 "cells": [
  {
   "cell_type": "code",
   "execution_count": 1,
   "id": "a66d0e03",
   "metadata": {},
   "outputs": [],
   "source": [
    "import numpy as np\n",
    "import pandas as pd"
   ]
  },
  {
   "cell_type": "markdown",
   "id": "66de54a7",
   "metadata": {},
   "source": [
    "# Pandas Series"
   ]
  },
  {
   "cell_type": "markdown",
   "id": "45c3d54f",
   "metadata": {},
   "source": [
    "##  Métodos para crear una serie"
   ]
  },
  {
   "cell_type": "code",
   "execution_count": 2,
   "id": "fcd9a2ef",
   "metadata": {},
   "outputs": [
    {
     "data": {
      "text/plain": [
       "['a', 'b', 'c']"
      ]
     },
     "execution_count": 2,
     "metadata": {},
     "output_type": "execute_result"
    }
   ],
   "source": [
    "labels = ['a','b','c']\n",
    "labels"
   ]
  },
  {
   "cell_type": "code",
   "execution_count": 3,
   "id": "57a1e394",
   "metadata": {},
   "outputs": [
    {
     "data": {
      "text/plain": [
       "[10, 20, 30]"
      ]
     },
     "execution_count": 3,
     "metadata": {},
     "output_type": "execute_result"
    }
   ],
   "source": [
    "mylist = [10,20,30]\n",
    "mylist"
   ]
  },
  {
   "cell_type": "code",
   "execution_count": 4,
   "id": "2499a677",
   "metadata": {},
   "outputs": [
    {
     "data": {
      "text/plain": [
       "array([10, 20, 30])"
      ]
     },
     "execution_count": 4,
     "metadata": {},
     "output_type": "execute_result"
    }
   ],
   "source": [
    "arr = np.array(mylist)\n",
    "arr"
   ]
  },
  {
   "cell_type": "code",
   "execution_count": 6,
   "id": "c69c6327",
   "metadata": {},
   "outputs": [
    {
     "data": {
      "text/plain": [
       "{'a': 10, 'b': 20, 'c': 30}"
      ]
     },
     "execution_count": 6,
     "metadata": {},
     "output_type": "execute_result"
    }
   ],
   "source": [
    "d={'a':10,'b':20,'c':30}\n",
    "d"
   ]
  },
  {
   "cell_type": "code",
   "execution_count": 5,
   "id": "eb625b80",
   "metadata": {},
   "outputs": [
    {
     "data": {
      "text/plain": [
       "0    10\n",
       "1    20\n",
       "2    30\n",
       "dtype: int64"
      ]
     },
     "execution_count": 5,
     "metadata": {},
     "output_type": "execute_result"
    }
   ],
   "source": [
    "pd.Series(data=mylist)\n",
    "# Mostrará automáticamente el índice que coincide con los datos."
   ]
  },
  {
   "cell_type": "code",
   "execution_count": 7,
   "id": "2277a7ce",
   "metadata": {},
   "outputs": [
    {
     "data": {
      "text/plain": [
       "0    10\n",
       "1    20\n",
       "2    30\n",
       "dtype: int64"
      ]
     },
     "execution_count": 7,
     "metadata": {},
     "output_type": "execute_result"
    }
   ],
   "source": [
    "# No hace falta usar el =, lo podemos pasar directamente\n",
    "# Podemos pasar un numpy array\n",
    "pd.Series(arr)"
   ]
  },
  {
   "cell_type": "code",
   "execution_count": 8,
   "id": "cdaced8e",
   "metadata": {},
   "outputs": [],
   "source": [
    "# Así que en este momento vimos que solo pasamos datos sin procesar.\n",
    "# Esos le mostrarán automáticamente el índice que acompaña a cada uno de ellos."
   ]
  },
  {
   "cell_type": "code",
   "execution_count": 9,
   "id": "cec58787",
   "metadata": {},
   "outputs": [
    {
     "data": {
      "text/plain": [
       "0     10\n",
       "1      a\n",
       "2    4.4\n",
       "dtype: object"
      ]
     },
     "execution_count": 9,
     "metadata": {},
     "output_type": "execute_result"
    }
   ],
   "source": [
    "# Los datos no tienen que ser numéricos, pueden ser de tipo mixto.\n",
    "# No va a ser capaz de almacenar todo como el mismo tipo de datos\n",
    "pd.Series(data=[10,'a',4.4])"
   ]
  },
  {
   "cell_type": "markdown",
   "id": "b5e08b7f",
   "metadata": {},
   "source": [
    "## Ahora le sumamos la parte del index"
   ]
  },
  {
   "cell_type": "code",
   "execution_count": 10,
   "id": "13240af9",
   "metadata": {},
   "outputs": [
    {
     "data": {
      "text/plain": [
       "a    10\n",
       "b    20\n",
       "c    30\n",
       "dtype: int64"
      ]
     },
     "execution_count": 10,
     "metadata": {},
     "output_type": "execute_result"
    }
   ],
   "source": [
    "pd.Series(data=arr,index=labels)\n",
    "\n",
    "# Ahora, cuando veamos nuestra serie, recuperamos un índice con NOMBRE que es realmente agradable y muy conveniente\n",
    "# Porque la gente por lo general, tienden a pensar en los índices como nombres, por lo que puedo pensar en a\n",
    "# como fábrica a o empresa a y luego empresa B, empresa C y tal vez estos son números de salida para cada una de esas empresas"
   ]
  },
  {
   "cell_type": "code",
   "execution_count": 11,
   "id": "9f1a2129",
   "metadata": {},
   "outputs": [
    {
     "data": {
      "text/plain": [
       "USA        1\n",
       "Germany    2\n",
       "USSR       3\n",
       "Japan      4\n",
       "dtype: int64"
      ]
     },
     "execution_count": 11,
     "metadata": {},
     "output_type": "execute_result"
    }
   ],
   "source": [
    "# Tenemos nuestros datos en una serie y comprendemos que la serie es esencialmente una matriz numpy con un índice con nombre por conveniencia.\n",
    "# Entonces, hablemos sobre el uso de ese índice de una manera más realista.\n",
    "ser1 = pd.Series([1,2,3,4],index=['USA','Germany','USSR','Japan'])\n",
    "ser1"
   ]
  },
  {
   "cell_type": "code",
   "execution_count": 12,
   "id": "3397d730",
   "metadata": {},
   "outputs": [
    {
     "data": {
      "text/plain": [
       "np.int64(1)"
      ]
     },
     "execution_count": 12,
     "metadata": {},
     "output_type": "execute_result"
    }
   ],
   "source": [
    "ser1['USA']"
   ]
  },
  {
   "cell_type": "code",
   "execution_count": 13,
   "id": "a111c985",
   "metadata": {},
   "outputs": [
    {
     "data": {
      "text/plain": [
       "USA        1\n",
       "Germany    4\n",
       "Italy      5\n",
       "Japan      6\n",
       "dtype: int64"
      ]
     },
     "execution_count": 13,
     "metadata": {},
     "output_type": "execute_result"
    }
   ],
   "source": [
    "ser2 = pd.Series([1,4,5,6],index=['USA','Germany','Italy','Japan'])\n",
    "ser2"
   ]
  },
  {
   "cell_type": "markdown",
   "id": "687f0e8a",
   "metadata": {},
   "source": [
    "## Operaciones con series\n",
    "### La operación se realiza en función del índice"
   ]
  },
  {
   "cell_type": "code",
   "execution_count": 15,
   "id": "dbebe5ec",
   "metadata": {},
   "outputs": [
    {
     "data": {
      "text/plain": [
       "Germany     6.0\n",
       "Italy       NaN\n",
       "Japan      10.0\n",
       "USA         2.0\n",
       "USSR        NaN\n",
       "dtype: float64"
      ]
     },
     "execution_count": 15,
     "metadata": {},
     "output_type": "execute_result"
    }
   ],
   "source": [
    "ser1 + ser2\n",
    "# A los que no están en las 2 series (ej USSR está en ser1 pero no en ser2) les asigna NaN"
   ]
  }
 ],
 "metadata": {
  "kernelspec": {
   "display_name": "Python 3",
   "language": "python",
   "name": "python3"
  },
  "language_info": {
   "codemirror_mode": {
    "name": "ipython",
    "version": 3
   },
   "file_extension": ".py",
   "mimetype": "text/x-python",
   "name": "python",
   "nbconvert_exporter": "python",
   "pygments_lexer": "ipython3",
   "version": "3.12.1"
  }
 },
 "nbformat": 4,
 "nbformat_minor": 5
}
