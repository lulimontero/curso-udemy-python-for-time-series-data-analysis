{
 "cells": [
  {
   "cell_type": "code",
   "execution_count": 45,
   "id": "ff9ad78e",
   "metadata": {},
   "outputs": [],
   "source": [
    "import numpy as np"
   ]
  },
  {
   "cell_type": "markdown",
   "id": "3e06e9c4",
   "metadata": {},
   "source": [
    "# Numpy Arrays"
   ]
  },
  {
   "cell_type": "markdown",
   "id": "167a944e",
   "metadata": {},
   "source": [
    "## Formas de crear arrays de numpy."
   ]
  },
  {
   "cell_type": "code",
   "execution_count": 46,
   "id": "2ef09c82",
   "metadata": {},
   "outputs": [],
   "source": [
    "# Bien, hablemos sobre las diferentes formas de crear arrays de numpy.\n",
    "# Una forma de crear un array de numpy es a partir de un objeto existente, como una lista.\n",
    "# En Python, tienes listas integradas que usan corchetes, así que puedo decir mi_lista y ponerle uno, dos, tres.\n",
    "mylist = [1,2,3]"
   ]
  },
  {
   "cell_type": "code",
   "execution_count": 47,
   "id": "2baf7812",
   "metadata": {},
   "outputs": [
    {
     "data": {
      "text/plain": [
       "list"
      ]
     },
     "execution_count": 47,
     "metadata": {},
     "output_type": "execute_result"
    }
   ],
   "source": [
    "# Si reviso el tipo de este objeto, mylist, es de tipo lista.\n",
    "type (mylist)"
   ]
  },
  {
   "cell_type": "code",
   "execution_count": 48,
   "id": "a1e89543",
   "metadata": {},
   "outputs": [
    {
     "data": {
      "text/plain": [
       "array([1, 2, 3])"
      ]
     },
     "execution_count": 48,
     "metadata": {},
     "output_type": "execute_result"
    }
   ],
   "source": [
    "# Si quiero transformar esta lista en un array, puedo decir np.array y luego pasarle ese objeto mi_lista y lo transformará en un array.\n",
    "np.array(mylist)"
   ]
  },
  {
   "cell_type": "code",
   "execution_count": 49,
   "id": "19b87461",
   "metadata": {},
   "outputs": [
    {
     "data": {
      "text/plain": [
       "list"
      ]
     },
     "execution_count": 49,
     "metadata": {},
     "output_type": "execute_result"
    }
   ],
   "source": [
    "# Ten en cuenta que esto no afecta permanentemente la lista.\n",
    "# Si digo type(mi_lista), sigue siendo una lista.\n",
    "type(mylist)"
   ]
  },
  {
   "cell_type": "code",
   "execution_count": 50,
   "id": "bc2a1dbd",
   "metadata": {},
   "outputs": [
    {
     "data": {
      "text/plain": [
       "array([1, 2, 3])"
      ]
     },
     "execution_count": 50,
     "metadata": {},
     "output_type": "execute_result"
    }
   ],
   "source": [
    "# Si realmente quiero el array, necesito decir algo como array = np.array(mi_lista).\n",
    "# Entonces tengo este objeto (o variable) array, que es un array de numpy.\n",
    "arr = np.array(mylist)\n",
    "arr"
   ]
  },
  {
   "cell_type": "markdown",
   "id": "e45f099c",
   "metadata": {},
   "source": [
    "## Matriz"
   ]
  },
  {
   "cell_type": "code",
   "execution_count": 51,
   "id": "d4333d72",
   "metadata": {},
   "outputs": [
    {
     "data": {
      "text/plain": [
       "[[1, 2, 3], [4, 5, 6], [7, 8, 9]]"
      ]
     },
     "execution_count": 51,
     "metadata": {},
     "output_type": "execute_result"
    }
   ],
   "source": [
    "# Algo más útil que transformar una lista de Python a un array de numpy, es transformar una lista anidada en un array de numpy.\n",
    "# Esto se llama MATRIZ.\n",
    "mylist = [[1,2,3],[4,5,6],[7,8,9]]\n",
    "mylist"
   ]
  },
  {
   "cell_type": "code",
   "execution_count": 52,
   "id": "35c0a607",
   "metadata": {},
   "outputs": [
    {
     "data": {
      "text/plain": [
       "array([[1, 2, 3],\n",
       "       [4, 5, 6],\n",
       "       [7, 8, 9]])"
      ]
     },
     "execution_count": 52,
     "metadata": {},
     "output_type": "execute_result"
    }
   ],
   "source": [
    "# Ahora Jupyter realmente lo muestra como una matriz bidimensional.\n",
    "# Puedes verificar cuántas dimensiones tiene basado en la cantidad de corchetes que aparecen al principio o al final.\n",
    "# Esto es bidimensional porque tenemos un eje x y un eje y, esencialmente una matriz de dos dimensiones.\n",
    "np.array(mylist)"
   ]
  },
  {
   "cell_type": "code",
   "execution_count": 53,
   "id": "ab163393",
   "metadata": {},
   "outputs": [],
   "source": [
    "mymatrix = np.array(mylist)"
   ]
  },
  {
   "cell_type": "code",
   "execution_count": 54,
   "id": "8faf6b2f",
   "metadata": {},
   "outputs": [
    {
     "data": {
      "text/plain": [
       "(3, 3)"
      ]
     },
     "execution_count": 54,
     "metadata": {},
     "output_type": "execute_result"
    }
   ],
   "source": [
    "# Existen métodos integrados y propiedades para este array.\n",
    "# Si lo llamo mymatrix y lo ejecuto para definirlo, luego puedo decir mymatrix. y presionar tabulador. Notarás que hay un montón de métodos y atributos diferentes que puedo usar en este array de numpy.\n",
    "# Uno de los más útiles es shape y devolverá la forma real del array, que es 3 por 3.\n",
    "mymatrix.shape"
   ]
  },
  {
   "cell_type": "code",
   "execution_count": 55,
   "id": "6acba98d",
   "metadata": {},
   "outputs": [],
   "source": [
    "# Esa es una manera de convertir una lista de Python existente en un array de numpy.\n",
    "# Sin embargo, hay muchos métodos integrados realmente útiles para arrays muy comunes."
   ]
  },
  {
   "cell_type": "code",
   "execution_count": 56,
   "id": "7b3f6f6e",
   "metadata": {},
   "outputs": [
    {
     "data": {
      "text/plain": [
       "array([0, 1, 2, 3, 4, 5, 6, 7, 8, 9])"
      ]
     },
     "execution_count": 56,
     "metadata": {},
     "output_type": "execute_result"
    }
   ],
   "source": [
    "# Primero, hablemos de los métodos integrados.\n",
    "# Uno de los más útiles es np.arange y la forma en que funciona arange, puedes hacer shift+tab y te dará la información.\n",
    "# Es muy parecido al range incorporado de Python, donde tienes un inicio, un fin y un tamaño de paso.\n",
    "# Podemos empezar en el índice 0 y llegar hasta 10 (pero sin incluirlo!), el índice final.\n",
    "# Fíjate que empieza en 0 y llega hasta, pero sin incluir, el 10.\n",
    "# El inicio es inclusivo, el final es exclusivo, y tenemos de 0 hasta 9.\n",
    "mynewmatrix = np.array(mylist)\n",
    "np.arange(0,10)"
   ]
  },
  {
   "cell_type": "code",
   "execution_count": 57,
   "id": "5e2a5f1d",
   "metadata": {},
   "outputs": [
    {
     "data": {
      "text/plain": [
       "array([0, 2, 4, 6, 8])"
      ]
     },
     "execution_count": 57,
     "metadata": {},
     "output_type": "execute_result"
    }
   ],
   "source": [
    "# Luego podemos añadir el parámetro de tamaño de paso. Por defecto, el tamaño de paso es uno, sube de 1 en 1.\n",
    "# Pero si ponemos 2 como parámetro de step, entonces sube de dos en dos, pero sin incluir el número final.\n",
    "np.arange(0,10,2)\n",
    "\n",
    "# Si quisiera ver el diez, simplemente pondría como final el once, y así veo el diez."
   ]
  },
  {
   "cell_type": "code",
   "execution_count": 58,
   "id": "59ac0e95",
   "metadata": {},
   "outputs": [
    {
     "data": {
      "text/plain": [
       "array([0., 0., 0., 0., 0.])"
      ]
     },
     "execution_count": 58,
     "metadata": {},
     "output_type": "execute_result"
    }
   ],
   "source": [
    "# También podemos tener ceros y unos.\n",
    "# Puedo decir np.zeros y si pongo un solo número, como cinco, me devuelve un array de cinco ceros.\n",
    "np.zeros(5)"
   ]
  },
  {
   "cell_type": "code",
   "execution_count": 59,
   "id": "1f85dee3",
   "metadata": {},
   "outputs": [
    {
     "data": {
      "text/plain": [
       "float"
      ]
     },
     "execution_count": 59,
     "metadata": {},
     "output_type": "execute_result"
    }
   ],
   "source": [
    "# Fíjate que después del cero aparece un punto, indicando que es un número flotante.\n",
    "# Si revisamos 0.0, el tipo de esto es float, no es un entero.\n",
    "# Es lo mismo si simplemente dices cero punto, también es un float. Así que eso es lo que significa, que son números de punto flotante.\n",
    "type(0.)"
   ]
  },
  {
   "cell_type": "code",
   "execution_count": 60,
   "id": "0376a759",
   "metadata": {},
   "outputs": [
    {
     "data": {
      "text/plain": [
       "array([[0., 0., 0., 0., 0., 0., 0., 0., 0., 0.],\n",
       "       [0., 0., 0., 0., 0., 0., 0., 0., 0., 0.],\n",
       "       [0., 0., 0., 0., 0., 0., 0., 0., 0., 0.],\n",
       "       [0., 0., 0., 0., 0., 0., 0., 0., 0., 0.]])"
      ]
     },
     "execution_count": 60,
     "metadata": {},
     "output_type": "execute_result"
    }
   ],
   "source": [
    "# Pero también puedes pasar una tupla.\n",
    "# Fíjate en otro par de paréntesis aquí con una forma distinta.\n",
    "np.zeros((4,10))"
   ]
  },
  {
   "cell_type": "code",
   "execution_count": 61,
   "id": "b131dcc9",
   "metadata": {},
   "outputs": [
    {
     "data": {
      "text/plain": [
       "array([[1., 1., 1., 1., 1.],\n",
       "       [1., 1., 1., 1., 1.],\n",
       "       [1., 1., 1., 1., 1.],\n",
       "       [1., 1., 1., 1., 1.],\n",
       "       [1., 1., 1., 1., 1.]])"
      ]
     },
     "execution_count": 61,
     "metadata": {},
     "output_type": "execute_result"
    }
   ],
   "source": [
    "# Lo mismo con np.ones. Como ya habrás adivinado, es esencialmente la misma operación pero ahora puedes pedir unos.\n",
    "np.ones((5,5))"
   ]
  },
  {
   "cell_type": "code",
   "execution_count": 62,
   "id": "c03ad006",
   "metadata": {},
   "outputs": [
    {
     "data": {
      "text/plain": [
       "array([[5., 5., 5., 5., 5.],\n",
       "       [5., 5., 5., 5., 5.],\n",
       "       [5., 5., 5., 5., 5.],\n",
       "       [5., 5., 5., 5., 5.],\n",
       "       [5., 5., 5., 5., 5.]])"
      ]
     },
     "execution_count": 62,
     "metadata": {},
     "output_type": "execute_result"
    }
   ],
   "source": [
    "# Lo interesante de esto es que numpy te permite hacer operaciones que se aplican a todos los números del array (broadcasted).\n",
    "# Es decir, si tomo un array de unos y le sumo 4, numpy automáticamente va a sumar el número 4 a cada uno de los elementos.\n",
    "# Esto no se puede hacer con una lista normal de Python, por eso la gente usa numpy en primer lugar.\n",
    "# Así que, por ejemplo, si tenemos unos de numpy y le sumamos cuatro, nos da cuatro unos.\n",
    "np.ones((5,5))+4"
   ]
  },
  {
   "cell_type": "code",
   "execution_count": 63,
   "id": "add61521",
   "metadata": {},
   "outputs": [
    {
     "data": {
      "text/plain": [
       "array([100., 100., 100., 100.])"
      ]
     },
     "execution_count": 63,
     "metadata": {},
     "output_type": "execute_result"
    }
   ],
   "source": [
    "# Puedo incluso multiplicar esto por 100 y entonces tengo cuatro \"cien\".\n",
    "np.ones(4)*100"
   ]
  },
  {
   "cell_type": "code",
   "execution_count": 64,
   "id": "efb3156a",
   "metadata": {},
   "outputs": [
    {
     "data": {
      "text/plain": [
       "[1,\n",
       " 1,\n",
       " 1,\n",
       " 1,\n",
       " 1,\n",
       " 1,\n",
       " 1,\n",
       " 1,\n",
       " 1,\n",
       " 1,\n",
       " 1,\n",
       " 1,\n",
       " 1,\n",
       " 1,\n",
       " 1,\n",
       " 1,\n",
       " 1,\n",
       " 1,\n",
       " 1,\n",
       " 1,\n",
       " 1,\n",
       " 1,\n",
       " 1,\n",
       " 1,\n",
       " 1,\n",
       " 1,\n",
       " 1,\n",
       " 1,\n",
       " 1,\n",
       " 1,\n",
       " 1,\n",
       " 1,\n",
       " 1,\n",
       " 1,\n",
       " 1,\n",
       " 1,\n",
       " 1,\n",
       " 1,\n",
       " 1,\n",
       " 1,\n",
       " 1,\n",
       " 1,\n",
       " 1,\n",
       " 1,\n",
       " 1,\n",
       " 1,\n",
       " 1,\n",
       " 1,\n",
       " 1,\n",
       " 1,\n",
       " 1,\n",
       " 1,\n",
       " 1,\n",
       " 1,\n",
       " 1,\n",
       " 1,\n",
       " 1,\n",
       " 1,\n",
       " 1,\n",
       " 1,\n",
       " 1,\n",
       " 1,\n",
       " 1,\n",
       " 1,\n",
       " 1,\n",
       " 1,\n",
       " 1,\n",
       " 1,\n",
       " 1,\n",
       " 1,\n",
       " 1,\n",
       " 1,\n",
       " 1,\n",
       " 1,\n",
       " 1,\n",
       " 1,\n",
       " 1,\n",
       " 1,\n",
       " 1,\n",
       " 1,\n",
       " 1,\n",
       " 1,\n",
       " 1,\n",
       " 1,\n",
       " 1,\n",
       " 1,\n",
       " 1,\n",
       " 1,\n",
       " 1,\n",
       " 1,\n",
       " 1,\n",
       " 1,\n",
       " 1,\n",
       " 1,\n",
       " 1,\n",
       " 1,\n",
       " 1,\n",
       " 1,\n",
       " 1,\n",
       " 1,\n",
       " 1,\n",
       " 1,\n",
       " 1,\n",
       " 1,\n",
       " 1,\n",
       " 1,\n",
       " 1,\n",
       " 1,\n",
       " 1,\n",
       " 1,\n",
       " 1,\n",
       " 1,\n",
       " 1,\n",
       " 1,\n",
       " 1,\n",
       " 1,\n",
       " 1,\n",
       " 1,\n",
       " 1,\n",
       " 1,\n",
       " 1,\n",
       " 1,\n",
       " 1,\n",
       " 1,\n",
       " 1,\n",
       " 1,\n",
       " 1,\n",
       " 1,\n",
       " 1,\n",
       " 1,\n",
       " 1,\n",
       " 1,\n",
       " 1,\n",
       " 1,\n",
       " 1,\n",
       " 1,\n",
       " 1,\n",
       " 1,\n",
       " 1,\n",
       " 1,\n",
       " 1,\n",
       " 1,\n",
       " 1,\n",
       " 1,\n",
       " 1,\n",
       " 1,\n",
       " 1,\n",
       " 1,\n",
       " 1,\n",
       " 1,\n",
       " 1,\n",
       " 1,\n",
       " 1,\n",
       " 1,\n",
       " 1,\n",
       " 1,\n",
       " 1,\n",
       " 1,\n",
       " 1,\n",
       " 1,\n",
       " 1,\n",
       " 1,\n",
       " 1,\n",
       " 1,\n",
       " 1,\n",
       " 1,\n",
       " 1,\n",
       " 1,\n",
       " 1,\n",
       " 1,\n",
       " 1,\n",
       " 1,\n",
       " 1,\n",
       " 1,\n",
       " 1,\n",
       " 1,\n",
       " 1,\n",
       " 1,\n",
       " 1,\n",
       " 1,\n",
       " 1,\n",
       " 1,\n",
       " 1,\n",
       " 1,\n",
       " 1,\n",
       " 1,\n",
       " 1,\n",
       " 1,\n",
       " 1,\n",
       " 1,\n",
       " 1,\n",
       " 1,\n",
       " 1,\n",
       " 1,\n",
       " 1,\n",
       " 1,\n",
       " 1,\n",
       " 1,\n",
       " 1,\n",
       " 1,\n",
       " 1,\n",
       " 1,\n",
       " 1,\n",
       " 1,\n",
       " 1,\n",
       " 1,\n",
       " 1,\n",
       " 1,\n",
       " 1,\n",
       " 1,\n",
       " 1,\n",
       " 1,\n",
       " 1,\n",
       " 1,\n",
       " 1,\n",
       " 1,\n",
       " 1,\n",
       " 1,\n",
       " 1,\n",
       " 1,\n",
       " 1,\n",
       " 1,\n",
       " 1,\n",
       " 1,\n",
       " 1,\n",
       " 1,\n",
       " 1,\n",
       " 1,\n",
       " 1,\n",
       " 1,\n",
       " 1,\n",
       " 1,\n",
       " 1,\n",
       " 1,\n",
       " 1,\n",
       " 1,\n",
       " 1,\n",
       " 1,\n",
       " 1,\n",
       " 1,\n",
       " 1,\n",
       " 1,\n",
       " 1,\n",
       " 1,\n",
       " 1,\n",
       " 1,\n",
       " 1,\n",
       " 1,\n",
       " 1,\n",
       " 1,\n",
       " 1,\n",
       " 1,\n",
       " 1,\n",
       " 1,\n",
       " 1,\n",
       " 1,\n",
       " 1,\n",
       " 1,\n",
       " 1,\n",
       " 1,\n",
       " 1,\n",
       " 1,\n",
       " 1,\n",
       " 1,\n",
       " 1,\n",
       " 1,\n",
       " 1,\n",
       " 1,\n",
       " 1,\n",
       " 1,\n",
       " 1,\n",
       " 1,\n",
       " 1,\n",
       " 1,\n",
       " 1,\n",
       " 1,\n",
       " 1,\n",
       " 1,\n",
       " 1,\n",
       " 1,\n",
       " 1,\n",
       " 1,\n",
       " 1,\n",
       " 1,\n",
       " 1,\n",
       " 1,\n",
       " 1,\n",
       " 1,\n",
       " 1,\n",
       " 1,\n",
       " 1,\n",
       " 1,\n",
       " 1,\n",
       " 1,\n",
       " 1,\n",
       " 1,\n",
       " 1,\n",
       " 1,\n",
       " 1,\n",
       " 1,\n",
       " 1,\n",
       " 1,\n",
       " 1,\n",
       " 1,\n",
       " 1,\n",
       " 1,\n",
       " 1,\n",
       " 1,\n",
       " 1,\n",
       " 1,\n",
       " 1,\n",
       " 1,\n",
       " 1,\n",
       " 1,\n",
       " 1,\n",
       " 1,\n",
       " 1,\n",
       " 1,\n",
       " 1,\n",
       " 1,\n",
       " 1,\n",
       " 1,\n",
       " 1,\n",
       " 1,\n",
       " 1,\n",
       " 1,\n",
       " 1,\n",
       " 1,\n",
       " 1,\n",
       " 1,\n",
       " 1,\n",
       " 1,\n",
       " 1,\n",
       " 1,\n",
       " 1,\n",
       " 1,\n",
       " 1,\n",
       " 1,\n",
       " 1,\n",
       " 1,\n",
       " 1,\n",
       " 1,\n",
       " 1,\n",
       " 1,\n",
       " 1,\n",
       " 1,\n",
       " 1,\n",
       " 1,\n",
       " 1,\n",
       " 1,\n",
       " 1,\n",
       " 1,\n",
       " 1,\n",
       " 1,\n",
       " 1,\n",
       " 1,\n",
       " 1,\n",
       " 1,\n",
       " 1,\n",
       " 1,\n",
       " 1,\n",
       " 1,\n",
       " 1,\n",
       " 1,\n",
       " 1,\n",
       " 1,\n",
       " 1,\n",
       " 1,\n",
       " 1,\n",
       " 1,\n",
       " 1,\n",
       " 1,\n",
       " 1,\n",
       " 1,\n",
       " 1,\n",
       " 1,\n",
       " 1,\n",
       " 1,\n",
       " 1,\n",
       " 1,\n",
       " 1,\n",
       " 1,\n",
       " 1,\n",
       " 1,\n",
       " 1,\n",
       " 1,\n",
       " 1,\n",
       " 1,\n",
       " 1,\n",
       " 1,\n",
       " 1,\n",
       " 1,\n",
       " 1,\n",
       " 1,\n",
       " 1,\n",
       " 1,\n",
       " 1,\n",
       " 1,\n",
       " 1,\n",
       " 1]"
      ]
     },
     "execution_count": 64,
     "metadata": {},
     "output_type": "execute_result"
    }
   ],
   "source": [
    "# Si intento hacer lo mismo con una lista normal de Python, aquí tengo cuatro unos.\n",
    "# Es una lista (no un array), si intento multiplicarla por 100, lo que obtengo es la lista repetida 100 veces. No hace la operación.\n",
    "[1,1,1,1]*100"
   ]
  },
  {
   "cell_type": "code",
   "execution_count": 65,
   "id": "984991cb",
   "metadata": {},
   "outputs": [
    {
     "ename": "TypeError",
     "evalue": "can only concatenate list (not \"int\") to list",
     "output_type": "error",
     "traceback": [
      "\u001b[31m---------------------------------------------------------------------------\u001b[39m",
      "\u001b[31mTypeError\u001b[39m                                 Traceback (most recent call last)",
      "\u001b[36mCell\u001b[39m\u001b[36m \u001b[39m\u001b[32mIn[65]\u001b[39m\u001b[32m, line 4\u001b[39m\n\u001b[32m      1\u001b[39m \u001b[38;5;66;03m# Y si intento sumar diez (+ 10), obtendré un error.\u001b[39;00m\n\u001b[32m      2\u001b[39m \u001b[38;5;66;03m# Me dirá que no puede concatenar una lista con un entero porque son tipos de datos diferentes.\u001b[39;00m\n\u001b[32m      3\u001b[39m \u001b[38;5;66;03m# Numpy no tiene este problema.\u001b[39;00m\n\u001b[32m----> \u001b[39m\u001b[32m4\u001b[39m \u001b[43m[\u001b[49m\u001b[32;43m1\u001b[39;49m\u001b[43m,\u001b[49m\u001b[32;43m1\u001b[39;49m\u001b[43m,\u001b[49m\u001b[32;43m1\u001b[39;49m\u001b[43m,\u001b[49m\u001b[32;43m1\u001b[39;49m\u001b[43m]\u001b[49m\u001b[43m+\u001b[49m\u001b[32;43m10\u001b[39;49m\n",
      "\u001b[31mTypeError\u001b[39m: can only concatenate list (not \"int\") to list"
     ]
    }
   ],
   "source": [
    "# Y si intento sumar diez (+ 10), obtendré un error.\n",
    "# Me dirá que no puede concatenar una lista con un entero porque son tipos de datos diferentes.\n",
    "# Numpy no tiene este problema.\n",
    "[1,1,1,1]+10"
   ]
  },
  {
   "cell_type": "markdown",
   "id": "80ed34ae",
   "metadata": {},
   "source": [
    "## Sigamos con un par de formas más de crear arrays de numpy: Tenemos la posibilidad de crear arrays espaciados linealmente, que devuelven números equidistantes en un intervalo especificado."
   ]
  },
  {
   "cell_type": "code",
   "execution_count": 66,
   "id": "1abb7c98",
   "metadata": {},
   "outputs": [
    {
     "data": {
      "text/plain": [
       "array([ 0.,  5., 10.])"
      ]
     },
     "execution_count": 66,
     "metadata": {},
     "output_type": "execute_result"
    }
   ],
   "source": [
    "# Lo que hacemos es decir np.linspace, luego pones un inicio, un final, y luego cuántos elementos queremos entre el inicio y el final que sean equidistantes.\n",
    "# Por ejemplo, si pido tres números entre 0 y 10, me da 0, 5 y 10.\n",
    "np.linspace(0,10,3)"
   ]
  },
  {
   "cell_type": "code",
   "execution_count": 67,
   "id": "7a3604be",
   "metadata": {},
   "outputs": [
    {
     "data": {
      "text/plain": [
       "array([ 0.        ,  0.52631579,  1.05263158,  1.57894737,  2.10526316,\n",
       "        2.63157895,  3.15789474,  3.68421053,  4.21052632,  4.73684211,\n",
       "        5.26315789,  5.78947368,  6.31578947,  6.84210526,  7.36842105,\n",
       "        7.89473684,  8.42105263,  8.94736842,  9.47368421, 10.        ])"
      ]
     },
     "execution_count": 67,
     "metadata": {},
     "output_type": "execute_result"
    }
   ],
   "source": [
    "# Puedo pedir más, por ejemplo 20 números equidistantes entre 0 y 10, y me devuelve esos 20 números empezando en 0 y llegando hasta 10 inclusive.\n",
    "# Representa números equidistantes en un intervalo especificado, con un inicio, un final y la cantidad de números que quieras.\n",
    "np.linspace(0,10,20)"
   ]
  },
  {
   "cell_type": "markdown",
   "id": "72b188f4",
   "metadata": {},
   "source": [
    "## Crear rápidamente una matriz identidad"
   ]
  },
  {
   "cell_type": "code",
   "execution_count": 68,
   "id": "5365d3b0",
   "metadata": {},
   "outputs": [
    {
     "data": {
      "text/plain": [
       "array([[1., 0., 0., 0., 0.],\n",
       "       [0., 1., 0., 0., 0.],\n",
       "       [0., 0., 1., 0., 0.],\n",
       "       [0., 0., 0., 1., 0.],\n",
       "       [0., 0., 0., 0., 1.]])"
      ]
     },
     "execution_count": 68,
     "metadata": {},
     "output_type": "execute_result"
    }
   ],
   "source": [
    "# Hay una forma de crear rápidamente una matriz identidad, y eso es con np.eye.\n",
    "# Aquí le pones un solo número y te devuelve una matriz identidad de ese tamaño (por ejemplo, 5 por 5).\n",
    "# Una matriz identidad es una matriz que tiene unos en la diagonal principal y todo lo demás es cero.\n",
    "np.eye(5)"
   ]
  },
  {
   "cell_type": "markdown",
   "id": "c85ded08",
   "metadata": {},
   "source": [
    "## Formas de crear números aleatorios con numpy."
   ]
  },
  {
   "cell_type": "markdown",
   "id": "e1aa20b2",
   "metadata": {},
   "source": [
    "### Distribución uniforme: np.random.rand"
   ]
  },
  {
   "cell_type": "code",
   "execution_count": 69,
   "id": "d5ba2ee6",
   "metadata": {},
   "outputs": [
    {
     "ename": "SyntaxError",
     "evalue": "invalid syntax (192756570.py, line 3)",
     "output_type": "error",
     "traceback": [
      "  \u001b[36mCell\u001b[39m\u001b[36m \u001b[39m\u001b[32mIn[69]\u001b[39m\u001b[32m, line 3\u001b[39m\n\u001b[31m    \u001b[39m\u001b[31mnp.random.\u001b[39m\n              ^\n\u001b[31mSyntaxError\u001b[39m\u001b[31m:\u001b[39m invalid syntax\n"
     ]
    }
   ],
   "source": [
    "# Hay muchas formas de crear números aleatorios con numpy. Una forma de hacerlo es llamando a np.random.\n",
    "# Y si aquí presionas Tab, notarás que hay muchos métodos diferentes para crear números aleatorios.\n",
    "np.random."
   ]
  },
  {
   "cell_type": "code",
   "execution_count": 70,
   "id": "2f02a08c",
   "metadata": {},
   "outputs": [
    {
     "data": {
      "text/plain": [
       "array([[0.46348377, 0.0306814 , 0.09032208, 0.88030571, 0.67272966],\n",
       "       [0.80320886, 0.89498623, 0.94090241, 0.151571  , 0.14769946],\n",
       "       [0.98517554, 0.7187688 , 0.6870754 , 0.47708197, 0.42854215],\n",
       "       [0.32033115, 0.22239564, 0.53089932, 0.91350251, 0.09201217],\n",
       "       [0.83284133, 0.8163503 , 0.6338194 , 0.42902361, 0.71871624]])"
      ]
     },
     "execution_count": 70,
     "metadata": {},
     "output_type": "execute_result"
    }
   ],
   "source": [
    "# El primero que vamos a ver es rand, que básicamente genera una muestra aleatoria de una distribución uniforme entre 0 y 1.\n",
    "# Esto significa que si pones un solo número aquí, por ejemplo uno, te devuelve un número aleatorio entre 0 y 1, y es una distribución uniforme, lo que significa que todos los números entre 0 y 1 tienen la misma probabilidad de ser elegidos.\n",
    "np.random.rand(1)\n",
    "# Si escribes 4 aquí, te devolverá 4 números aleatorios. Así puedes ver los 4 números aleatorios. También puedes pasarle una forma. Por ejemplo, puedes poner cinco coma cinco, y te devolverá un array de 5x5 de números aleatorios entre 0 y 1.\n",
    "np.random.rand(4)\n",
    "np.random.rand(5,5)"
   ]
  },
  {
   "cell_type": "markdown",
   "id": "9232b52c",
   "metadata": {},
   "source": [
    "### Distribución normal:np.random.randn - np.random.normal"
   ]
  },
  {
   "cell_type": "code",
   "execution_count": 71,
   "id": "a959eef7",
   "metadata": {},
   "outputs": [
    {
     "data": {
      "text/plain": [
       "array([-0.95949693, -2.0458215 , -0.11294747,  0.60949337, -1.25398981,\n",
       "       -1.29323097,  1.88779014, -0.71545436, -0.03733028,  1.21397127])"
      ]
     },
     "execution_count": 71,
     "metadata": {},
     "output_type": "execute_result"
    }
   ],
   "source": [
    "# Eso es con una distribución uniforme.\n",
    "# También existe la posibilidad de hacer lo mismo con una distribución normal. Es decir, podemos decir np.random.randn y esto devuelve una muestra (o varias, dependiendo de lo que le pidas) de la distribución normal estándar.\n",
    "# La distribución normal estándar tiene una media de 0 y una desviación estándar de 1.\n",
    "# Así que podemos pedir un número de esta distribución normal estándar, y puedes ver que es un valor alrededor de 0, quizás negativo o positivo.\n",
    "np.random.randn(1)\n",
    "\n",
    "# Podemos pedir 10 números aleatorios, que estarán distribuidos normalmente alrededor de 0 y tendrán una desviación estándar de 1.\n",
    "np.random.randn(10)"
   ]
  },
  {
   "cell_type": "code",
   "execution_count": 72,
   "id": "af3471a7",
   "metadata": {},
   "outputs": [],
   "source": [
    "# Si quieres especificar tu propia media y desviación estándar (“sigma”), puedes usar random.normal y, si haces shift+tab, puedes ingresar el parámetro de “loc” (que es la media) y “scale” (que es la desviación estándar).\n",
    "# np.random.normal()"
   ]
  },
  {
   "cell_type": "markdown",
   "id": "ce8af67b",
   "metadata": {},
   "source": [
    "### Número aleatorio dentro un intervalo: np.random.randint"
   ]
  },
  {
   "cell_type": "code",
   "execution_count": 73,
   "id": "19d93e8e",
   "metadata": {},
   "outputs": [
    {
     "data": {
      "text/plain": [
       "array([94, 75, 58, 87, 94,  3, 36,  8, 96, 77])"
      ]
     },
     "execution_count": 73,
     "metadata": {},
     "output_type": "execute_result"
    }
   ],
   "source": [
    "# Otro método muy útil es randint, así que podemos decir np.random.randint, y esto lo que hace es devolver enteros aleatorios desde un valor bajo (inclusive) hasta un valor alto (exclusivo). Así que puedes decidir los límites, por ejemplo: del 1 al 100 y te devuelve un número aleatorio entre 1 y 100.\n",
    "#Si sigues ejecutando la celda, obtendrás diferentes números aleatorios.\n",
    "np.random.randint(1,100)\n",
    "\n",
    "# Puedes pedir una cantidad determinada de números entre 1 y 100, por ejemplo 10, y te devuelve esos 10 números aleatorios en ese rango.\n",
    "np.random.randint(1,100,10)"
   ]
  },
  {
   "cell_type": "markdown",
   "id": "73e3add0",
   "metadata": {},
   "source": [
    "## Seed"
   ]
  },
  {
   "cell_type": "code",
   "execution_count": 74,
   "id": "35b1d36c",
   "metadata": {},
   "outputs": [
    {
     "data": {
      "text/plain": [
       "array([0.37454012, 0.95071431, 0.73199394, 0.59865848])"
      ]
     },
     "execution_count": 74,
     "metadata": {},
     "output_type": "execute_result"
    }
   ],
   "source": [
    "# Probablemente habrás notado que estás obteniendo resultados aleatorios distintos a los míos. Lo que puedes hacer es establecer una “semilla” (seed), que define el estado aleatorio inicial. Así los resultados se pueden reproducir.\n",
    "# Esto se hace escribiendo en una celda: np.random.seed() y adentro pones cualquier número para inicializar el generador de números aleatorios. Mientras uses el mismo número que yo, obtendrás los mismos números aleatorios.\n",
    "# Por ejemplo, puedes poner 42, o 101, o cualquier número; realmente da igual mientras seas consistente y estés comparando con la generación histórica de números.\n",
    "np.random.seed(42)\n",
    "np.random.rand(4)\n",
    "\n",
    "\n",
    "# Mientras ambos estén en la misma celda y la ejecutes, deberías ver exactamente los mismos cuatro números aleatorios que yo.\n",
    "# El número 42 no tiene ningún significado especial aquí, es solo un número cualquiera que hemos elegido. Mientras tú uses el mismo número, obtendrás los mismos resultados.\n",
    "# Para que quede más claro, cambia la semilla a 101, vuelve a ejecutar, y verás cuatro números diferentes (pero siempre los mismos cada vez que uses esa semilla). O puedes pedir un array 5x5 y verás siempre los mismos cuando uses el mismo seed.\n",
    "# Es importante que sepas que estos resultados coinciden porque la semilla y el generador aleatorio están en la misma celda. Si los llamas en celdas diferentes, el resultado será diferente. Así que, si quieres asegurarte de obtener los mismos números que yo, mantén la seed y la llamada al método de números aleatorios en la misma celda, como hago en los videos."
   ]
  },
  {
   "cell_type": "markdown",
   "id": "05ae1e58",
   "metadata": {},
   "source": [
    "## Atributos y métodos de los arrays."
   ]
  },
  {
   "cell_type": "code",
   "execution_count": 75,
   "id": "980ccb3f",
   "metadata": {},
   "outputs": [
    {
     "data": {
      "text/plain": [
       "array([ 0,  1,  2,  3,  4,  5,  6,  7,  8,  9, 10, 11, 12, 13, 14, 15, 16,\n",
       "       17, 18, 19, 20, 21, 22, 23, 24])"
      ]
     },
     "execution_count": 75,
     "metadata": {},
     "output_type": "execute_result"
    }
   ],
   "source": [
    "# Rápidamente voy a crear un array\n",
    "arr = np.arange(25)\n",
    "arr"
   ]
  },
  {
   "cell_type": "code",
   "execution_count": 76,
   "id": "01f6d022",
   "metadata": {},
   "outputs": [
    {
     "data": {
      "text/plain": [
       "array([38, 18, 22, 10, 10, 23, 35, 39, 23,  2])"
      ]
     },
     "execution_count": 76,
     "metadata": {},
     "output_type": "execute_result"
    }
   ],
   "source": [
    "# Después, voy a crear otro:\n",
    "ranarr = np.random.randint(0, 50, 10) #me da diez números aleatorios entre 0 y 50.\n",
    "ranarr"
   ]
  },
  {
   "cell_type": "markdown",
   "id": "82dfa73a",
   "metadata": {},
   "source": [
    "### Reshape: puedes transformar un vector unidimensional en otra cosa."
   ]
  },
  {
   "cell_type": "code",
   "execution_count": 77,
   "id": "9baec0ff",
   "metadata": {},
   "outputs": [
    {
     "data": {
      "text/plain": [
       "(25,)"
      ]
     },
     "execution_count": 77,
     "metadata": {},
     "output_type": "execute_result"
    }
   ],
   "source": [
    "# Como mencioné antes, si tienes un array, puedes ver su forma con .shape, pero a veces no quieres todo como un vector unidimensional, sino que deseas un array bidimensional.\n",
    "arr.shape"
   ]
  },
  {
   "cell_type": "code",
   "execution_count": 78,
   "id": "09a6dfb3",
   "metadata": {},
   "outputs": [
    {
     "data": {
      "text/plain": [
       "array([[ 0,  1,  2,  3,  4],\n",
       "       [ 5,  6,  7,  8,  9],\n",
       "       [10, 11, 12, 13, 14],\n",
       "       [15, 16, 17, 18, 19],\n",
       "       [20, 21, 22, 23, 24]])"
      ]
     },
     "execution_count": 78,
     "metadata": {},
     "output_type": "execute_result"
    }
   ],
   "source": [
    "# Para hacer esto, llamas al método reshape y le pasas la nueva forma, por ejemplo 5x5. Eso te devolverá un array de 5 filas y 5 columnas.\n",
    "arr.reshape(5,5) "
   ]
  },
  {
   "cell_type": "code",
   "execution_count": 79,
   "id": "72059d2a",
   "metadata": {},
   "outputs": [
    {
     "ename": "ValueError",
     "evalue": "cannot reshape array of size 25 into shape (5,3)",
     "output_type": "error",
     "traceback": [
      "\u001b[31m---------------------------------------------------------------------------\u001b[39m",
      "\u001b[31mValueError\u001b[39m                                Traceback (most recent call last)",
      "\u001b[36mCell\u001b[39m\u001b[36m \u001b[39m\u001b[32mIn[79]\u001b[39m\u001b[32m, line 3\u001b[39m\n\u001b[32m      1\u001b[39m \u001b[38;5;66;03m# Algo importante: no puedes elegir cualquier valor al azar. Por ejemplo, si pides un array 5x3, recibirás un error, porque no puedes acomodar 25 elementos en una forma de 5x3 (eso solo serían 15 elementos).\u001b[39;00m\n\u001b[32m      2\u001b[39m \u001b[38;5;66;03m# Así que, si ves el error de “cannot reshape array”, revisa cuántos elementos tienes y la forma a la que quieres cambiarlo.\u001b[39;00m\n\u001b[32m----> \u001b[39m\u001b[32m3\u001b[39m \u001b[43marr\u001b[49m\u001b[43m.\u001b[49m\u001b[43mreshape\u001b[49m\u001b[43m(\u001b[49m\u001b[32;43m5\u001b[39;49m\u001b[43m,\u001b[49m\u001b[32;43m3\u001b[39;49m\u001b[43m)\u001b[49m \n",
      "\u001b[31mValueError\u001b[39m: cannot reshape array of size 25 into shape (5,3)"
     ]
    }
   ],
   "source": [
    "# Algo importante: no puedes elegir cualquier valor al azar. Por ejemplo, si pides un array 5x3, recibirás un error, porque no puedes acomodar 25 elementos en una forma de 5x3 (eso solo serían 15 elementos).\n",
    "# Así que, si ves el error de “cannot reshape array”, revisa cuántos elementos tienes y la forma a la que quieres cambiarlo.\n",
    "arr.reshape(5,3) "
   ]
  },
  {
   "cell_type": "markdown",
   "id": "38273a24",
   "metadata": {},
   "source": [
    "### Argmax y Argmin"
   ]
  },
  {
   "cell_type": "code",
   "execution_count": 80,
   "id": "8305643d",
   "metadata": {},
   "outputs": [
    {
     "data": {
      "text/plain": [
       "np.int64(39)"
      ]
     },
     "execution_count": 80,
     "metadata": {},
     "output_type": "execute_result"
    }
   ],
   "source": [
    "# Supongamos que tenemos nuestro random array, unos números aleatorios.\n",
    "# Si queremos saber cuál es el número máximo, podemos usar .max(), y te devuelve el valor máximo. Lo mismo para el mínimo con .min().\n",
    "ranarr.max()"
   ]
  },
  {
   "cell_type": "code",
   "execution_count": 81,
   "id": "32ce75f8",
   "metadata": {},
   "outputs": [
    {
     "data": {
      "text/plain": [
       "array([38, 18, 22, 10, 10, 23, 35, 39, 23,  2])"
      ]
     },
     "execution_count": 81,
     "metadata": {},
     "output_type": "execute_result"
    }
   ],
   "source": [
    "ranarr"
   ]
  },
  {
   "cell_type": "code",
   "execution_count": 82,
   "id": "d7cf0172",
   "metadata": {},
   "outputs": [
    {
     "data": {
      "text/plain": [
       "np.int64(7)"
      ]
     },
     "execution_count": 82,
     "metadata": {},
     "output_type": "execute_result"
    }
   ],
   "source": [
    "# Si quieres saber la posición (el índice) donde están esos valores máximo y mínimo, puedes usar .argmax() y .argmin(). Esto te devuelve el índice donde se encuentra ese valor dentro del array.\n",
    "ranarr.argmax()"
   ]
  },
  {
   "cell_type": "markdown",
   "id": "10bcfaaa",
   "metadata": {},
   "source": [
    "# Numpy Indexing and Selection"
   ]
  },
  {
   "cell_type": "markdown",
   "id": "98645b13",
   "metadata": {},
   "source": [
    "- La indexación nos va a permitir obtener un solo elemento de un array de una o dos dimensiones.\n",
    "- La selección nos permitirá obtener una porción (slice) o un conjunto de elementos de un array unidimensional o bidimensional."
   ]
  },
  {
   "cell_type": "code",
   "execution_count": 83,
   "id": "328b0d4e",
   "metadata": {},
   "outputs": [
    {
     "data": {
      "text/plain": [
       "array([ 0,  1,  2,  3,  4,  5,  6,  7,  8,  9, 10])"
      ]
     },
     "execution_count": 83,
     "metadata": {},
     "output_type": "execute_result"
    }
   ],
   "source": [
    "arr = np.arange(0,11)\n",
    "arr"
   ]
  },
  {
   "cell_type": "markdown",
   "id": "62943a84",
   "metadata": {},
   "source": [
    "## Indexación y selección con corchetes"
   ]
  },
  {
   "cell_type": "code",
   "execution_count": 84,
   "id": "7c5b2d61",
   "metadata": {},
   "outputs": [
    {
     "data": {
      "text/plain": [
       "np.int64(8)"
      ]
     },
     "execution_count": 84,
     "metadata": {},
     "output_type": "execute_result"
    }
   ],
   "source": [
    "# Supongamos que quiero obtener un solo valor de ese array unidimensional. Simplemente se usan corchetes y se pasa el índice del valor que buscas.\n",
    "# Por ejemplo, en la posición índice 8 está el número 8. Así que debería ver un 8.\n",
    "arr[8]"
   ]
  },
  {
   "cell_type": "code",
   "execution_count": 85,
   "id": "4e7c1a49",
   "metadata": {},
   "outputs": [
    {
     "data": {
      "text/plain": [
       "array([1, 2, 3, 4])"
      ]
     },
     "execution_count": 85,
     "metadata": {},
     "output_type": "execute_result"
    }
   ],
   "source": [
    "# Si quieres obtener valores dentro de un rango, igual que con listas de Python, solo pones en los corchetes el índice inicial, dos puntos, y el índice final (sin incluirlo). Por ejemplo, del 1 al 5: ponemos [1:5], y obtenemos 1, 2, 3, 4.\n",
    "arr[1:5]"
   ]
  },
  {
   "cell_type": "code",
   "execution_count": 86,
   "id": "9370aad3",
   "metadata": {},
   "outputs": [
    {
     "data": {
      "text/plain": [
       "array([0, 1, 2, 3, 4])"
      ]
     },
     "execution_count": 86,
     "metadata": {},
     "output_type": "execute_result"
    }
   ],
   "source": [
    "#Si quisiera incluir también el 0, podría hacer [0:5], o simplemente [ :5], lo que significa ir desde el principio hasta el índice 5 (sin incluirlo).\n",
    "arr[:5]"
   ]
  },
  {
   "cell_type": "code",
   "execution_count": 87,
   "id": "9fa0ee5b",
   "metadata": {},
   "outputs": [
    {
     "data": {
      "text/plain": [
       "array([ 5,  6,  7,  8,  9, 10])"
      ]
     },
     "execution_count": 87,
     "metadata": {},
     "output_type": "execute_result"
    }
   ],
   "source": [
    "arr[5:]"
   ]
  },
  {
   "cell_type": "code",
   "execution_count": 88,
   "id": "a0b54a50",
   "metadata": {},
   "outputs": [
    {
     "data": {
      "text/plain": [
       "array([100, 101, 102, 103, 104, 105, 106, 107, 108, 109, 110])"
      ]
     },
     "execution_count": 88,
     "metadata": {},
     "output_type": "execute_result"
    }
   ],
   "source": [
    "# Ahora, como mencioné antes, también podemos aplicar broadcasting; es decir, los arrays de numpy permiten aplicar funciones y operaciones a todos los elementos a la vez, lo que no ocurre con las listas de Python.\n",
    "# Por ejemplo, puedo tomar mi array y sumarle un número a cada elemento, o dividir todos los números.\n",
    "# Observa que los cambios no son permanentes. Tendrías que guardar el resultado en una nueva variable o sobrescribir la variable original para que los cambios sean permanentes.\n",
    "arr+100"
   ]
  },
  {
   "cell_type": "code",
   "execution_count": 89,
   "id": "1dae9c7e",
   "metadata": {},
   "outputs": [
    {
     "data": {
      "text/plain": [
       "array([ 0,  1,  2,  3,  4,  5,  6,  7,  8,  9, 10])"
      ]
     },
     "execution_count": 89,
     "metadata": {},
     "output_type": "execute_result"
    }
   ],
   "source": [
    "arr"
   ]
  },
  {
   "cell_type": "code",
   "execution_count": 90,
   "id": "23e23348",
   "metadata": {},
   "outputs": [
    {
     "data": {
      "text/plain": [
       "array([0, 1, 2, 3, 4, 5])"
      ]
     },
     "execution_count": 90,
     "metadata": {},
     "output_type": "execute_result"
    }
   ],
   "source": [
    "# Algo importante sobre los slices es que cuando tomas un fragmento (slice) de un array, ese fragmento sigue apuntando al array original, no es una copia independiente.\n",
    "# Aquí está nuestro array original del 0 al 10.\n",
    "# Si tomamos un slice con array[0:6] y lo guardamos en una variable, ese slice muestra los valores de 0 a 5.\n",
    "slice_of_arr = arr[0:6]\n",
    "slice_of_arr"
   ]
  },
  {
   "cell_type": "code",
   "execution_count": 91,
   "id": "fb87ca89",
   "metadata": {},
   "outputs": [
    {
     "data": {
      "text/plain": [
       "array([0, 1, 2, 3, 4, 5])"
      ]
     },
     "execution_count": 91,
     "metadata": {},
     "output_type": "execute_result"
    }
   ],
   "source": [
    "slice_of_arr[:]"
   ]
  },
  {
   "cell_type": "code",
   "execution_count": 92,
   "id": "16d4c973",
   "metadata": {},
   "outputs": [
    {
     "data": {
      "text/plain": [
       "array([99, 99, 99, 99, 99, 99])"
      ]
     },
     "execution_count": 92,
     "metadata": {},
     "output_type": "execute_result"
    }
   ],
   "source": [
    "# Si luego le asignas un valor a todo el slice (por ej lo igualas a 99), todos esos valores en la porción seleccionada van a cambiar a 99,\n",
    "# y también cambiarán en el array original.\n",
    "slice_of_arr[:] = 99\n",
    "slice_of_arr"
   ]
  },
  {
   "cell_type": "code",
   "execution_count": 93,
   "id": "a4c72eb6",
   "metadata": {},
   "outputs": [
    {
     "data": {
      "text/plain": [
       "array([99, 99, 99, 99, 99, 99,  6,  7,  8,  9, 10])"
      ]
     },
     "execution_count": 93,
     "metadata": {},
     "output_type": "execute_result"
    }
   ],
   "source": [
    "arr"
   ]
  },
  {
   "cell_type": "code",
   "execution_count": 94,
   "id": "914150a0",
   "metadata": {},
   "outputs": [
    {
     "data": {
      "text/plain": [
       "array([1000, 1000, 1000, 1000, 1000, 1000, 1000, 1000, 1000, 1000, 1000])"
      ]
     },
     "execution_count": 94,
     "metadata": {},
     "output_type": "execute_result"
    }
   ],
   "source": [
    "#Esto ocurre porque el slice sigue apuntando al array original.\n",
    "# Así que, si no quieres que tu array original se modifique, debes crear una copia explícita, usando el método .copy().\n",
    "# Así tendrás una copia independiente en memoria, y los cambios en la copia no afectarán al original.\n",
    "arr_copy = arr.copy()\n",
    "arr_copy[:] = 1000\n",
    "arr_copy"
   ]
  },
  {
   "cell_type": "code",
   "execution_count": 95,
   "id": "727f1995",
   "metadata": {},
   "outputs": [
    {
     "data": {
      "text/plain": [
       "array([99, 99, 99, 99, 99, 99,  6,  7,  8,  9, 10])"
      ]
     },
     "execution_count": 95,
     "metadata": {},
     "output_type": "execute_result"
    }
   ],
   "source": [
    "arr"
   ]
  },
  {
   "cell_type": "markdown",
   "id": "e1803e6c",
   "metadata": {},
   "source": [
    "## Indexación y selección en arrays bidimensionales (matrices)"
   ]
  },
  {
   "cell_type": "code",
   "execution_count": 96,
   "id": "92c887e1",
   "metadata": {},
   "outputs": [
    {
     "data": {
      "text/plain": [
       "array([[ 5, 10, 15],\n",
       "       [20, 25, 30],\n",
       "       [35, 40, 45]])"
      ]
     },
     "execution_count": 96,
     "metadata": {},
     "output_type": "execute_result"
    }
   ],
   "source": [
    "arr_2d = np.array([[5,10,15],[20,25,30],[35,40,45]])\n",
    "arr_2d"
   ]
  },
  {
   "cell_type": "code",
   "execution_count": 97,
   "id": "4abfeffe",
   "metadata": {},
   "outputs": [
    {
     "data": {
      "text/plain": [
       "(3, 3)"
      ]
     },
     "execution_count": 97,
     "metadata": {},
     "output_type": "execute_result"
    }
   ],
   "source": [
    "arr_2d.shape"
   ]
  },
  {
   "cell_type": "code",
   "execution_count": 98,
   "id": "3656071e",
   "metadata": {},
   "outputs": [
    {
     "data": {
      "text/plain": [
       "array([20, 25, 30])"
      ]
     },
     "execution_count": 98,
     "metadata": {},
     "output_type": "execute_result"
    }
   ],
   "source": [
    "# Para extraer elementos o filas/columnas de un array bidimensional, primero se indica el índice de la fila, y después el de la columna.\n",
    "# Por ejemplo, para obtener solo una fila (por ejemplo, la fila en índice 1, que contiene 20, 25, 30):\n",
    "arr_2d[1]"
   ]
  },
  {
   "cell_type": "code",
   "execution_count": 99,
   "id": "486be572",
   "metadata": {},
   "outputs": [
    {
     "data": {
      "text/plain": [
       "np.int64(25)"
      ]
     },
     "execution_count": 99,
     "metadata": {},
     "output_type": "execute_result"
    }
   ],
   "source": [
    "# Si queremos sólo el 25 (fila 1, columna 1)\n",
    "arr_2d[1,1]"
   ]
  },
  {
   "cell_type": "code",
   "execution_count": 100,
   "id": "3a72fcb2",
   "metadata": {},
   "outputs": [
    {
     "data": {
      "text/plain": [
       "array([[ 5, 10, 15],\n",
       "       [20, 25, 30]])"
      ]
     },
     "execution_count": 100,
     "metadata": {},
     "output_type": "execute_result"
    }
   ],
   "source": [
    "# Para seleccionar más de un número\n",
    "arr_2d[:2] #todo menos la fila 2"
   ]
  },
  {
   "cell_type": "code",
   "execution_count": null,
   "id": "26bf8107",
   "metadata": {},
   "outputs": [
    {
     "data": {
      "text/plain": [
       "array([[10, 15],\n",
       "       [25, 30]])"
      ]
     },
     "execution_count": 101,
     "metadata": {},
     "output_type": "execute_result"
    }
   ],
   "source": [
    "arr_2d[:2,1:] #todo menos la fila 2; y luego desde la columna 1 hasta el final"
   ]
  },
  {
   "cell_type": "markdown",
   "id": "1b395757",
   "metadata": {},
   "source": [
    "## Selección condicional"
   ]
  },
  {
   "cell_type": "markdown",
   "id": "87a3e135",
   "metadata": {},
   "source": [
    "La selección condicional te permite usar operadores de comparación para filtrar elementos de un array."
   ]
  },
  {
   "cell_type": "code",
   "execution_count": 102,
   "id": "828cd2a5",
   "metadata": {},
   "outputs": [
    {
     "data": {
      "text/plain": [
       "array([ 1,  2,  3,  4,  5,  6,  7,  8,  9, 10])"
      ]
     },
     "execution_count": 102,
     "metadata": {},
     "output_type": "execute_result"
    }
   ],
   "source": [
    "arr = np.arange(1,11)\n",
    "arr"
   ]
  },
  {
   "cell_type": "code",
   "execution_count": 103,
   "id": "7ab0938c",
   "metadata": {},
   "outputs": [
    {
     "data": {
      "text/plain": [
       "array([False, False, False, False,  True,  True,  True,  True,  True,\n",
       "        True])"
      ]
     },
     "execution_count": 103,
     "metadata": {},
     "output_type": "execute_result"
    }
   ],
   "source": [
    "# Si tienes un array con los números del 1 al 10, puedes preguntar cuáles son mayores que 4.\n",
    "# Esto devuelve un array de valores booleanos (True / False), uno por cada elemento.\n",
    "arr > 4"
   ]
  },
  {
   "cell_type": "code",
   "execution_count": 105,
   "id": "12306a7d",
   "metadata": {},
   "outputs": [
    {
     "data": {
      "text/plain": [
       "array([False, False, False, False,  True,  True,  True,  True,  True,\n",
       "        True])"
      ]
     },
     "execution_count": 105,
     "metadata": {},
     "output_type": "execute_result"
    }
   ],
   "source": [
    "bool_arr = arr > 4\n",
    "bool_arr"
   ]
  },
  {
   "cell_type": "code",
   "execution_count": null,
   "id": "ead0647f",
   "metadata": {},
   "outputs": [
    {
     "data": {
      "text/plain": [
       "array([ 5,  6,  7,  8,  9, 10])"
      ]
     },
     "execution_count": 106,
     "metadata": {},
     "output_type": "execute_result"
    }
   ],
   "source": [
    "# Luego puedo realizar una selección condicional al pasar esta matriz booleana como filtro a mi matriz original.\n",
    "# Observe que solo volverá a donde las ubicaciones del índice eran verdaderas.\n",
    "arr[bool_arr]"
   ]
  },
  {
   "cell_type": "code",
   "execution_count": 107,
   "id": "9e519626",
   "metadata": {},
   "outputs": [
    {
     "data": {
      "text/plain": [
       "array([ 5,  6,  7,  8,  9, 10])"
      ]
     },
     "execution_count": 107,
     "metadata": {},
     "output_type": "execute_result"
    }
   ],
   "source": [
    "# Otra forma de decir eso:\n",
    "arr[arr > 4]"
   ]
  },
  {
   "cell_type": "code",
   "execution_count": 109,
   "id": "a6ac2a6e",
   "metadata": {},
   "outputs": [
    {
     "data": {
      "text/plain": [
       "array([2])"
      ]
     },
     "execution_count": 109,
     "metadata": {},
     "output_type": "execute_result"
    }
   ],
   "source": [
    "arr[arr == 2]"
   ]
  },
  {
   "cell_type": "markdown",
   "id": "cddeb8f4",
   "metadata": {},
   "source": [
    "# Numpy Operations"
   ]
  },
  {
   "cell_type": "code",
   "execution_count": 111,
   "id": "54473167",
   "metadata": {},
   "outputs": [
    {
     "data": {
      "text/plain": [
       "array([0, 1, 2, 3, 4, 5, 6, 7, 8, 9])"
      ]
     },
     "execution_count": 111,
     "metadata": {},
     "output_type": "execute_result"
    }
   ],
   "source": [
    "arr = np.arange(0,10)\n",
    "arr"
   ]
  },
  {
   "cell_type": "code",
   "execution_count": 116,
   "id": "e01c0157",
   "metadata": {},
   "outputs": [],
   "source": [
    "# Quiero reiterar que cuando realizas operaciones en numpy, a menudo se hacen elemento por elemento,\n",
    "# es decir, la operación se transmite (broadcasted) a lo largo de todo el array."
   ]
  },
  {
   "cell_type": "code",
   "execution_count": 112,
   "id": "b9ea3f2b",
   "metadata": {},
   "outputs": [
    {
     "data": {
      "text/plain": [
       "array([100, 101, 102, 103, 104, 105, 106, 107, 108, 109])"
      ]
     },
     "execution_count": 112,
     "metadata": {},
     "output_type": "execute_result"
    }
   ],
   "source": [
    "arr+100"
   ]
  },
  {
   "cell_type": "code",
   "execution_count": 113,
   "id": "2ebd5d5e",
   "metadata": {},
   "outputs": [
    {
     "data": {
      "text/plain": [
       "array([0.  , 0.01, 0.02, 0.03, 0.04, 0.05, 0.06, 0.07, 0.08, 0.09])"
      ]
     },
     "execution_count": 113,
     "metadata": {},
     "output_type": "execute_result"
    }
   ],
   "source": [
    "arr/100"
   ]
  },
  {
   "cell_type": "code",
   "execution_count": 114,
   "id": "0bbd0b71",
   "metadata": {},
   "outputs": [
    {
     "data": {
      "text/plain": [
       "array([ 0,  1,  4,  9, 16, 25, 36, 49, 64, 81])"
      ]
     },
     "execution_count": 114,
     "metadata": {},
     "output_type": "execute_result"
    }
   ],
   "source": [
    "arr**2"
   ]
  },
  {
   "cell_type": "code",
   "execution_count": 115,
   "id": "bdbeb5cb",
   "metadata": {},
   "outputs": [
    {
     "data": {
      "text/plain": [
       "array([0.02, 0.03, 0.04, 0.05, 0.06, 0.07, 0.08, 0.09, 0.1 , 0.11])"
      ]
     },
     "execution_count": 115,
     "metadata": {},
     "output_type": "execute_result"
    }
   ],
   "source": [
    "(arr+2)/100"
   ]
  },
  {
   "cell_type": "code",
   "execution_count": 117,
   "id": "0b928ed9",
   "metadata": {},
   "outputs": [
    {
     "data": {
      "text/plain": [
       "array([ 0,  2,  4,  6,  8, 10, 12, 14, 16, 18])"
      ]
     },
     "execution_count": 117,
     "metadata": {},
     "output_type": "execute_result"
    }
   ],
   "source": [
    "# Puedes ver que podemos hacer operaciones aritméticas elemento a elemento en todo el array.\n",
    "# También podemos realizar operaciones similares con dos arrays de la misma forma.\n",
    "# Por ejemplo, puedo tomar mi array y sumarlo consigo mismo, y se hará una suma elemento por elemento.\n",
    "arr+arr"
   ]
  },
  {
   "cell_type": "code",
   "execution_count": 118,
   "id": "cb204679",
   "metadata": {},
   "outputs": [
    {
     "name": "stderr",
     "output_type": "stream",
     "text": [
      "/tmp/ipykernel_2069/3129781172.py:6: RuntimeWarning: divide by zero encountered in divide\n",
      "  1/arr\n"
     ]
    },
    {
     "data": {
      "text/plain": [
       "array([       inf, 1.        , 0.5       , 0.33333333, 0.25      ,\n",
       "       0.2       , 0.16666667, 0.14285714, 0.125     , 0.11111111])"
      ]
     },
     "execution_count": 118,
     "metadata": {},
     "output_type": "execute_result"
    }
   ],
   "source": [
    "# Algo importante a tener en cuenta es que cuando intentas realizar cosas como dividir por 0 o por infinito, numpy no generará un error completo.\n",
    "# En su lugar, solo dará una advertencia (warning).\n",
    "# Por ejemplo, en nuestro array original tenemos un 0. Si intento hacer 1 dividido por el array, no se puede realmente hacer 1 dividido por 0.\n",
    "# Pero si hago esto en numpy, igual veré un resultado:\n",
    "# numpy pondrá una advertencia diciendo que encontró una división por 0 y, en lugar de dar un error, pondrá como marcador de posición el símbolo de infinito.\n",
    "1/arr"
   ]
  },
  {
   "cell_type": "code",
   "execution_count": null,
   "id": "c13f7eb4",
   "metadata": {},
   "outputs": [
    {
     "name": "stderr",
     "output_type": "stream",
     "text": [
      "/tmp/ipykernel_2069/1862401812.py:1: RuntimeWarning: invalid value encountered in divide\n",
      "  arr/arr\n"
     ]
    },
    {
     "data": {
      "text/plain": [
       "array([nan,  1.,  1.,  1.,  1.,  1.,  1.,  1.,  1.,  1.])"
      ]
     },
     "execution_count": 119,
     "metadata": {},
     "output_type": "execute_result"
    }
   ],
   "source": [
    "# Si digo array dividido por array, verás otra advertencia mostrando que se encontraron valores inválidos durante la división, y pondrá nan (“not a number”) cuando el resultado es 0 dividido por 0.\n",
    "# Cualquier número dividido por 0 será infinito, y 0 dividido por 0 será nan.\n",
    "# Fíjate que son advertencias, no errores completos, porque igual ves un resultado.\n",
    "arr/arr"
   ]
  },
  {
   "cell_type": "markdown",
   "id": "016a0e98",
   "metadata": {},
   "source": [
    "## Funciones universales para arrays"
   ]
  },
  {
   "cell_type": "code",
   "execution_count": 120,
   "id": "7288d502",
   "metadata": {},
   "outputs": [
    {
     "data": {
      "text/plain": [
       "array([0.        , 1.        , 1.41421356, 1.73205081, 2.        ,\n",
       "       2.23606798, 2.44948974, 2.64575131, 2.82842712, 3.        ])"
      ]
     },
     "execution_count": 120,
     "metadata": {},
     "output_type": "execute_result"
    }
   ],
   "source": [
    "np.sqrt(arr)"
   ]
  },
  {
   "cell_type": "code",
   "execution_count": 121,
   "id": "27007669",
   "metadata": {},
   "outputs": [
    {
     "name": "stderr",
     "output_type": "stream",
     "text": [
      "/tmp/ipykernel_2069/3120950136.py:1: RuntimeWarning: divide by zero encountered in log\n",
      "  np.log(arr)\n"
     ]
    },
    {
     "data": {
      "text/plain": [
       "array([      -inf, 0.        , 0.69314718, 1.09861229, 1.38629436,\n",
       "       1.60943791, 1.79175947, 1.94591015, 2.07944154, 2.19722458])"
      ]
     },
     "execution_count": 121,
     "metadata": {},
     "output_type": "execute_result"
    }
   ],
   "source": [
    "np.log(arr)"
   ]
  },
  {
   "cell_type": "code",
   "execution_count": 122,
   "id": "f5629caa",
   "metadata": {},
   "outputs": [
    {
     "data": {
      "text/plain": [
       "array([ 0.        ,  0.84147098,  0.90929743,  0.14112001, -0.7568025 ,\n",
       "       -0.95892427, -0.2794155 ,  0.6569866 ,  0.98935825,  0.41211849])"
      ]
     },
     "execution_count": 122,
     "metadata": {},
     "output_type": "execute_result"
    }
   ],
   "source": [
    "np.sin(arr)"
   ]
  },
  {
   "cell_type": "code",
   "execution_count": 124,
   "id": "8489cd13",
   "metadata": {},
   "outputs": [
    {
     "data": {
      "text/plain": [
       "array([0, 1, 2, 3, 4, 5, 6, 7, 8, 9])"
      ]
     },
     "execution_count": 124,
     "metadata": {},
     "output_type": "execute_result"
    }
   ],
   "source": [
    "arr"
   ]
  },
  {
   "cell_type": "code",
   "execution_count": 125,
   "id": "3bf933c9",
   "metadata": {},
   "outputs": [
    {
     "data": {
      "text/plain": [
       "45"
      ]
     },
     "execution_count": 125,
     "metadata": {},
     "output_type": "execute_result"
    }
   ],
   "source": [
    "9+8+7+6+5+4+3+2+1"
   ]
  },
  {
   "cell_type": "code",
   "execution_count": 123,
   "id": "f337cd5b",
   "metadata": {},
   "outputs": [
    {
     "data": {
      "text/plain": [
       "np.int64(45)"
      ]
     },
     "execution_count": 123,
     "metadata": {},
     "output_type": "execute_result"
    }
   ],
   "source": [
    "arr.sum()"
   ]
  },
  {
   "cell_type": "code",
   "execution_count": 126,
   "id": "8852ddb4",
   "metadata": {},
   "outputs": [
    {
     "data": {
      "text/plain": [
       "np.float64(4.5)"
      ]
     },
     "execution_count": 126,
     "metadata": {},
     "output_type": "execute_result"
    }
   ],
   "source": [
    "arr.mean()"
   ]
  },
  {
   "cell_type": "code",
   "execution_count": 127,
   "id": "45d8155c",
   "metadata": {},
   "outputs": [
    {
     "data": {
      "text/plain": [
       "np.int64(9)"
      ]
     },
     "execution_count": 127,
     "metadata": {},
     "output_type": "execute_result"
    }
   ],
   "source": [
    "arr.max()"
   ]
  },
  {
   "cell_type": "code",
   "execution_count": 130,
   "id": "e4376f2b",
   "metadata": {},
   "outputs": [
    {
     "data": {
      "text/plain": [
       "array([[ 1,  2,  3,  4],\n",
       "       [ 5,  6,  7,  8],\n",
       "       [ 9, 10, 11, 12]])"
      ]
     },
     "execution_count": 130,
     "metadata": {},
     "output_type": "execute_result"
    }
   ],
   "source": [
    "# También se puede especificar un “axis” cuando trabajas con arrays de dos dimensiones.\n",
    "# Por ejemplo, si quieres la suma de todas las columnas o de todas las filas, puedes indicarlo con el argumento axis.\n",
    "arr_2d = np.array([[1,2,3,4], [5,6,7,8], [9,10,11,12]])\n",
    "arr_2d"
   ]
  },
  {
   "cell_type": "code",
   "execution_count": 131,
   "id": "b68b2c78",
   "metadata": {},
   "outputs": [
    {
     "data": {
      "text/plain": [
       "(3, 4)"
      ]
     },
     "execution_count": 131,
     "metadata": {},
     "output_type": "execute_result"
    }
   ],
   "source": [
    "arr_2d.shape"
   ]
  },
  {
   "cell_type": "code",
   "execution_count": null,
   "id": "9df9b8c7",
   "metadata": {},
   "outputs": [
    {
     "data": {
      "text/plain": [
       "np.int64(78)"
      ]
     },
     "execution_count": 132,
     "metadata": {},
     "output_type": "execute_result"
    }
   ],
   "source": [
    "arr_2d.sum() #suma todos los números del array."
   ]
  },
  {
   "cell_type": "code",
   "execution_count": null,
   "id": "d37338d5",
   "metadata": {},
   "outputs": [
    {
     "data": {
      "text/plain": [
       "array([15, 18, 21, 24])"
      ]
     },
     "execution_count": 133,
     "metadata": {},
     "output_type": "execute_result"
    }
   ],
   "source": [
    "# Pero si quieres sumar solo los valores de cada columna o de cada fila, puedes pasar el argumento axis: array2d.sum(axis=0) o array2d.sum(axis=1).\n",
    "# Si pones axis=0, sumas a través de las filas para cada columna (es decir, suma vertical) y te devuelve la suma de cada columna.\n",
    "# Piensa que axis=0 es “a lo largo de las filas” (o sea, vertical), así que regresa la suma por columna.\n",
    "arr_2d.sum(axis=0)"
   ]
  },
  {
   "cell_type": "code",
   "execution_count": null,
   "id": "72fcabc1",
   "metadata": {},
   "outputs": [
    {
     "data": {
      "text/plain": [
       "array([10, 26, 42])"
      ]
     },
     "execution_count": 134,
     "metadata": {},
     "output_type": "execute_result"
    }
   ],
   "source": [
    "# Si pones axis=1, sumas a lo largo de las columnas para cada fila (es decir, suma horizontal), devolviendo la suma de cada fila.\n",
    "arr_2d.sum(axis=1)"
   ]
  }
 ],
 "metadata": {
  "kernelspec": {
   "display_name": "Python 3",
   "language": "python",
   "name": "python3"
  },
  "language_info": {
   "codemirror_mode": {
    "name": "ipython",
    "version": 3
   },
   "file_extension": ".py",
   "mimetype": "text/x-python",
   "name": "python",
   "nbconvert_exporter": "python",
   "pygments_lexer": "ipython3",
   "version": "3.12.1"
  }
 },
 "nbformat": 4,
 "nbformat_minor": 5
}
